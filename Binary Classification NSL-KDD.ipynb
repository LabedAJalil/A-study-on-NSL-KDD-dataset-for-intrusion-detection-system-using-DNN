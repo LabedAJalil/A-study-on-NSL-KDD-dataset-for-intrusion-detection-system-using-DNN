{
 "cells": [
  {
   "cell_type": "markdown",
   "metadata": {},
   "source": [
    "# Intrusion Detection On NSL KDD Binary Classification\n",
    "## Contents "
   ]
  },
  {
   "cell_type": "code",
   "execution_count": 1,
   "metadata": {},
   "outputs": [],
   "source": [
    "import pandas as pd\n",
    "import numpy as np\n",
    "import matplotlib.pyplot as plt \n",
    "\n",
    "KDDTrain_dataset_path   = \"PKDDTrain+.csv\"\n",
    "KDDTrain20_dataset_path = \"PKDDTrain+_20Percent.csv\"\n",
    "KDDTest_dataset_path    = \"PKDDTest+.csv\"\n",
    "KDDTest20_dataset_path  = \"PKDDTest-21.csv\""
   ]
  },
  {
   "cell_type": "markdown",
   "metadata": {},
   "source": [
    "## Data Preprocessing\n",
    "### Loading the NSLKDD dataset"
   ]
  },
  {
   "cell_type": "code",
   "execution_count": 2,
   "metadata": {},
   "outputs": [],
   "source": [
    "def load_data(data_path):\n",
    "    data = pd.read_csv(data_path)\n",
    "    return data\n",
    "\n",
    "KDDTrain   =  load_data(KDDTrain_dataset_path)\n",
    "KDDTrain20 =  load_data(KDDTrain20_dataset_path)\n",
    "KDDTest    =  load_data(KDDTest_dataset_path)\n",
    "KDDTest20  =  load_data(KDDTest20_dataset_path)"
   ]
  },
  {
   "cell_type": "markdown",
   "metadata": {},
   "source": [
    "### Normalizing the data"
   ]
  },
  {
   "cell_type": "code",
   "execution_count": 3,
   "metadata": {},
   "outputs": [
    {
     "name": "stderr",
     "output_type": "stream",
     "text": [
      "/home/labed/ml/env/lib/python3.5/site-packages/h5py/__init__.py:36: FutureWarning: Conversion of the second argument of issubdtype from `float` to `np.floating` is deprecated. In future, it will be treated as `np.float64 == np.dtype(float).type`.\n",
      "  from ._conv import register_converters as _register_converters\n",
      "Using TensorFlow backend.\n"
     ]
    }
   ],
   "source": [
    "from sklearn.preprocessing import StandardScaler\n",
    "from sklearn.preprocessing import MinMaxScaler\n",
    "from sklearn.base import BaseEstimator, TransformerMixin\n",
    "from keras.utils.np_utils import to_categorical\n",
    "\n",
    "class SplitData(BaseEstimator, TransformerMixin):\n",
    "    \n",
    "    def __init__(self):\n",
    "        super(SplitData, self).__init__()\n",
    "    \n",
    "    def fit(self,X,y=None):\n",
    "        return self \n",
    "    \n",
    "    def transform(self, X, labels, y=None):\n",
    "        \n",
    "        # Preparing the labels\n",
    "        y = X[labels]\n",
    "        X.drop('labels5',axis=1,inplace=True)\n",
    "        X.drop('labels2',axis=1,inplace=True)\n",
    "        \n",
    "        if (labels == 'labels2'):\n",
    "            y = (y == 'normal')\n",
    "            y_ = np.asarray(y).astype('float32')\n",
    "        else:\n",
    "            y_ = to_categorical(y)\n",
    "\n",
    "        # Scalling\n",
    "        # scaler = StandardScaler().fit(X)\n",
    "        # X_ = scaler.transform(X)\n",
    "        \n",
    "        # Normalization \n",
    "        normalize = MinMaxScaler().fit(X)\n",
    "        X_ = normalize.transform(X)\n",
    "        return X_,y_"
   ]
  },
  {
   "cell_type": "code",
   "execution_count": 4,
   "metadata": {},
   "outputs": [],
   "source": [
    "X_train, y_train = SplitData().transform(KDDTrain, labels='labels2')\n",
    "X_train20, y_train20 = SplitData().transform(KDDTrain20, labels='labels2')\n",
    "X_test, y_test = SplitData().transform(KDDTest, labels='labels2')\n",
    "X_test20, y_test20 = SplitData().transform(KDDTest20, labels='labels2')"
   ]
  },
  {
   "cell_type": "markdown",
   "metadata": {},
   "source": [
    "### Data Description"
   ]
  },
  {
   "cell_type": "code",
   "execution_count": 5,
   "metadata": {},
   "outputs": [
    {
     "name": "stdout",
     "output_type": "stream",
     "text": [
      "#Features \n",
      "Number of samples(examples)  125973  Number of features 121\n",
      "Dimension of data set  (125973, 121)\n",
      "---------------------------------------------------------------\n",
      "Number of samples(examples)  25192  Number of features 121\n",
      "Dimension of data set  (25192, 121)\n",
      "---------------------------------------------------------------\n",
      "Number of samples(examples)  22544  Number of features 121\n",
      "Dimension of data set  (22544, 121)\n",
      "---------------------------------------------------------------\n",
      "Number of samples(examples)  11850  Number of features 121\n",
      "Dimension of data set  (11850, 121)\n",
      "---------------------------------------------------------------\n",
      "#Labels\n",
      "Dimension of data set  (125973,)\n",
      "---------------------------------------------------------------\n",
      "Dimension of data set  (25192,)\n",
      "---------------------------------------------------------------\n",
      "Dimension of data set  (22544,)\n",
      "---------------------------------------------------------------\n",
      "Dimension of data set  (11850,)\n",
      "---------------------------------------------------------------\n"
     ]
    }
   ],
   "source": [
    "def description(data):\n",
    "    print(\"Number of samples(examples) \",data.shape[0],\" Number of features\",data.shape[1])\n",
    "    print(\"Dimension of data set \",data.shape)\n",
    "print(\"#Features \")    \n",
    "for data in [X_train,X_train20,X_test,X_test20]:\n",
    "    description(data)\n",
    "    print('---------------------------------------------------------------')\n",
    "print(\"#Labels\")    \n",
    "for data in [y_train,y_train20,y_test,y_test20]:\n",
    "    print(\"Dimension of data set \",data.shape)\n",
    "    print('---------------------------------------------------------------')"
   ]
  },
  {
   "cell_type": "code",
   "execution_count": 6,
   "metadata": {},
   "outputs": [
    {
     "name": "stdout",
     "output_type": "stream",
     "text": [
      "maximum element: 1.0\n",
      "minimum element: 0.0\n"
     ]
    }
   ],
   "source": [
    "print(\"maximum element:\",np.max(X_train))\n",
    "print(\"minimum element:\",np.min(X_train))"
   ]
  },
  {
   "cell_type": "markdown",
   "metadata": {},
   "source": [
    "## Building the network\n",
    "### The network architecture"
   ]
  },
  {
   "cell_type": "code",
   "execution_count": 7,
   "metadata": {},
   "outputs": [],
   "source": [
    "from keras import layers,optimizers,metrics,models\n",
    "#from keras.models import Model, load_model\n",
    "\n",
    "#model = models.Sequential()\n",
    "\n",
    "#model.add(layers.Dense(256, activation='relu', input_shape=(121,)))\n",
    "#model.add(layers.Dropout(0.5))\n",
    "#model.add(layers.Dense(128, activation='relu'))\n",
    "#model.add(layers.Dropout(0.5))\n",
    "#model.add(layers.Dense(64, activation='relu'))\n",
    "#model.add(layers.Dense(1, activation='sigmoid'))"
   ]
  },
  {
   "cell_type": "code",
   "execution_count": 25,
   "metadata": {},
   "outputs": [],
   "source": [
    "model = models.Sequential()\n",
    "\n",
    "model.add(layers.Dense(256, activation='relu', input_shape=(121,)))\n",
    "model.add(layers.Dropout(0.2))\n",
    "model.add(layers.Dense(114, activation='relu'))\n",
    "model.add(layers.Dropout(0.2))\n",
    "model.add(layers.Dense(78, activation='relu'))\n",
    "model.add(layers.Dense(34, activation='relu'))\n",
    "model.add(layers.Dense(1, activation='sigmoid'))"
   ]
  },
  {
   "cell_type": "markdown",
   "metadata": {},
   "source": [
    "### The compilation step"
   ]
  },
  {
   "cell_type": "code",
   "execution_count": 26,
   "metadata": {},
   "outputs": [],
   "source": [
    "#optimizers.RMSprop(lr=0.001) rmsprop\n",
    "model.compile(optimizer=optimizers.RMSprop(lr=0.00001),\n",
    "             loss='binary_crossentropy',\n",
    "             metrics=[metrics.binary_accuracy])"
   ]
  },
  {
   "cell_type": "code",
   "execution_count": 35,
   "metadata": {},
   "outputs": [
    {
     "name": "stdout",
     "output_type": "stream",
     "text": [
      "Train on 100778 samples, validate on 25195 samples\n",
      "Epoch 1/100\n",
      "100778/100778 [==============================] - 7s 71us/step - loss: 0.0381 - binary_accuracy: 0.9867 - val_loss: 0.0332 - val_binary_accuracy: 0.9891\n",
      "Epoch 2/100\n",
      "100778/100778 [==============================] - 7s 71us/step - loss: 0.0378 - binary_accuracy: 0.9866 - val_loss: 0.0329 - val_binary_accuracy: 0.9892\n",
      "Epoch 3/100\n",
      "100778/100778 [==============================] - 7s 71us/step - loss: 0.0374 - binary_accuracy: 0.9867 - val_loss: 0.0325 - val_binary_accuracy: 0.9901\n",
      "Epoch 4/100\n",
      "100778/100778 [==============================] - 7s 72us/step - loss: 0.0368 - binary_accuracy: 0.9872 - val_loss: 0.0323 - val_binary_accuracy: 0.9901\n",
      "Epoch 5/100\n",
      "100778/100778 [==============================] - 7s 72us/step - loss: 0.0365 - binary_accuracy: 0.9872 - val_loss: 0.0320 - val_binary_accuracy: 0.9902\n",
      "Epoch 6/100\n",
      "100778/100778 [==============================] - 7s 72us/step - loss: 0.0361 - binary_accuracy: 0.9873 - val_loss: 0.0322 - val_binary_accuracy: 0.9896\n",
      "Epoch 7/100\n",
      "100778/100778 [==============================] - 7s 72us/step - loss: 0.0361 - binary_accuracy: 0.9872 - val_loss: 0.0317 - val_binary_accuracy: 0.9900\n",
      "Epoch 8/100\n",
      "100778/100778 [==============================] - 7s 71us/step - loss: 0.0355 - binary_accuracy: 0.9877 - val_loss: 0.0314 - val_binary_accuracy: 0.9904\n",
      "Epoch 9/100\n",
      "100778/100778 [==============================] - 7s 72us/step - loss: 0.0356 - binary_accuracy: 0.9875 - val_loss: 0.0311 - val_binary_accuracy: 0.9906\n",
      "Epoch 10/100\n",
      "100778/100778 [==============================] - 7s 72us/step - loss: 0.0351 - binary_accuracy: 0.9879 - val_loss: 0.0310 - val_binary_accuracy: 0.9904\n",
      "Epoch 11/100\n",
      "100778/100778 [==============================] - 7s 72us/step - loss: 0.0346 - binary_accuracy: 0.9882 - val_loss: 0.0308 - val_binary_accuracy: 0.9901\n",
      "Epoch 12/100\n",
      "100778/100778 [==============================] - 7s 71us/step - loss: 0.0343 - binary_accuracy: 0.9882 - val_loss: 0.0305 - val_binary_accuracy: 0.9903\n",
      "Epoch 13/100\n",
      "100778/100778 [==============================] - 7s 72us/step - loss: 0.0346 - binary_accuracy: 0.9879 - val_loss: 0.0304 - val_binary_accuracy: 0.9904\n",
      "Epoch 14/100\n",
      "100778/100778 [==============================] - 7s 72us/step - loss: 0.0339 - binary_accuracy: 0.9883 - val_loss: 0.0302 - val_binary_accuracy: 0.9904\n",
      "Epoch 15/100\n",
      "100778/100778 [==============================] - 7s 71us/step - loss: 0.0336 - binary_accuracy: 0.9884 - val_loss: 0.0302 - val_binary_accuracy: 0.9904\n",
      "Epoch 16/100\n",
      "100778/100778 [==============================] - 7s 71us/step - loss: 0.0338 - binary_accuracy: 0.9882 - val_loss: 0.0299 - val_binary_accuracy: 0.9904\n",
      "Epoch 17/100\n",
      "100778/100778 [==============================] - 7s 71us/step - loss: 0.0332 - binary_accuracy: 0.9889 - val_loss: 0.0300 - val_binary_accuracy: 0.9904\n",
      "Epoch 18/100\n",
      "100778/100778 [==============================] - 7s 72us/step - loss: 0.0327 - binary_accuracy: 0.9891 - val_loss: 0.0294 - val_binary_accuracy: 0.9906\n",
      "Epoch 19/100\n",
      "100778/100778 [==============================] - 7s 72us/step - loss: 0.0326 - binary_accuracy: 0.9892 - val_loss: 0.0297 - val_binary_accuracy: 0.9905\n",
      "Epoch 20/100\n",
      "100778/100778 [==============================] - 7s 72us/step - loss: 0.0328 - binary_accuracy: 0.9889 - val_loss: 0.0292 - val_binary_accuracy: 0.9908\n",
      "Epoch 21/100\n",
      "100778/100778 [==============================] - 7s 72us/step - loss: 0.0321 - binary_accuracy: 0.9889 - val_loss: 0.0290 - val_binary_accuracy: 0.9909\n",
      "Epoch 22/100\n",
      "100778/100778 [==============================] - 7s 72us/step - loss: 0.0322 - binary_accuracy: 0.9891 - val_loss: 0.0288 - val_binary_accuracy: 0.9909\n",
      "Epoch 23/100\n",
      "100778/100778 [==============================] - 7s 71us/step - loss: 0.0316 - binary_accuracy: 0.9892 - val_loss: 0.0286 - val_binary_accuracy: 0.9908\n",
      "Epoch 24/100\n",
      "100778/100778 [==============================] - 7s 72us/step - loss: 0.0316 - binary_accuracy: 0.9895 - val_loss: 0.0285 - val_binary_accuracy: 0.9908\n",
      "Epoch 25/100\n",
      "100778/100778 [==============================] - 7s 71us/step - loss: 0.0310 - binary_accuracy: 0.9897 - val_loss: 0.0282 - val_binary_accuracy: 0.9910\n",
      "Epoch 26/100\n",
      "100778/100778 [==============================] - 7s 72us/step - loss: 0.0312 - binary_accuracy: 0.9895 - val_loss: 0.0283 - val_binary_accuracy: 0.9908\n",
      "Epoch 27/100\n",
      "100778/100778 [==============================] - 7s 72us/step - loss: 0.0303 - binary_accuracy: 0.9898 - val_loss: 0.0281 - val_binary_accuracy: 0.9909\n",
      "Epoch 28/100\n",
      "100778/100778 [==============================] - 7s 72us/step - loss: 0.0301 - binary_accuracy: 0.9901 - val_loss: 0.0278 - val_binary_accuracy: 0.9910\n",
      "Epoch 29/100\n",
      "100778/100778 [==============================] - 7s 72us/step - loss: 0.0308 - binary_accuracy: 0.9900 - val_loss: 0.0278 - val_binary_accuracy: 0.9910\n",
      "Epoch 30/100\n",
      "100778/100778 [==============================] - 7s 72us/step - loss: 0.0305 - binary_accuracy: 0.9899 - val_loss: 0.0276 - val_binary_accuracy: 0.9910\n",
      "Epoch 31/100\n",
      "100778/100778 [==============================] - 7s 72us/step - loss: 0.0300 - binary_accuracy: 0.9900 - val_loss: 0.0279 - val_binary_accuracy: 0.9910\n",
      "Epoch 32/100\n",
      "100778/100778 [==============================] - 7s 72us/step - loss: 0.0302 - binary_accuracy: 0.9897 - val_loss: 0.0272 - val_binary_accuracy: 0.9912\n",
      "Epoch 33/100\n",
      "100778/100778 [==============================] - 7s 72us/step - loss: 0.0299 - binary_accuracy: 0.9903 - val_loss: 0.0272 - val_binary_accuracy: 0.9912\n",
      "Epoch 34/100\n",
      "100778/100778 [==============================] - 7s 73us/step - loss: 0.0295 - binary_accuracy: 0.9905 - val_loss: 0.0270 - val_binary_accuracy: 0.9911\n",
      "Epoch 35/100\n",
      "100778/100778 [==============================] - 7s 72us/step - loss: 0.0292 - binary_accuracy: 0.9903 - val_loss: 0.0268 - val_binary_accuracy: 0.9916\n",
      "Epoch 36/100\n",
      "100778/100778 [==============================] - 7s 74us/step - loss: 0.0300 - binary_accuracy: 0.9900 - val_loss: 0.0266 - val_binary_accuracy: 0.9915\n",
      "Epoch 37/100\n",
      "100778/100778 [==============================] - 8s 75us/step - loss: 0.0293 - binary_accuracy: 0.9903 - val_loss: 0.0265 - val_binary_accuracy: 0.9916\n",
      "Epoch 38/100\n",
      "100778/100778 [==============================] - 7s 74us/step - loss: 0.0288 - binary_accuracy: 0.9905 - val_loss: 0.0263 - val_binary_accuracy: 0.9916\n",
      "Epoch 39/100\n",
      "100778/100778 [==============================] - 7s 74us/step - loss: 0.0291 - binary_accuracy: 0.9907 - val_loss: 0.0261 - val_binary_accuracy: 0.9915\n",
      "Epoch 40/100\n",
      "100778/100778 [==============================] - 8s 74us/step - loss: 0.0286 - binary_accuracy: 0.9909 - val_loss: 0.0261 - val_binary_accuracy: 0.9916\n",
      "Epoch 41/100\n",
      "100778/100778 [==============================] - 7s 74us/step - loss: 0.0285 - binary_accuracy: 0.9906 - val_loss: 0.0261 - val_binary_accuracy: 0.9915\n",
      "Epoch 42/100\n",
      "100778/100778 [==============================] - 8s 75us/step - loss: 0.0284 - binary_accuracy: 0.9906 - val_loss: 0.0258 - val_binary_accuracy: 0.9919\n",
      "Epoch 43/100\n",
      "100778/100778 [==============================] - 8s 84us/step - loss: 0.0283 - binary_accuracy: 0.9907 - val_loss: 0.0257 - val_binary_accuracy: 0.9919\n",
      "Epoch 44/100\n",
      "100778/100778 [==============================] - 8s 78us/step - loss: 0.0282 - binary_accuracy: 0.9908 - val_loss: 0.0256 - val_binary_accuracy: 0.9919\n",
      "Epoch 45/100\n",
      "100778/100778 [==============================] - 7s 70us/step - loss: 0.0276 - binary_accuracy: 0.9912 - val_loss: 0.0255 - val_binary_accuracy: 0.9919\n",
      "Epoch 46/100\n",
      "100778/100778 [==============================] - 7s 69us/step - loss: 0.0277 - binary_accuracy: 0.9912 - val_loss: 0.0254 - val_binary_accuracy: 0.9919\n",
      "Epoch 47/100\n",
      "100778/100778 [==============================] - 7s 74us/step - loss: 0.0276 - binary_accuracy: 0.9911 - val_loss: 0.0255 - val_binary_accuracy: 0.9921\n",
      "Epoch 48/100\n",
      "100778/100778 [==============================] - 8s 79us/step - loss: 0.0279 - binary_accuracy: 0.9910 - val_loss: 0.0252 - val_binary_accuracy: 0.9921\n",
      "Epoch 49/100\n",
      "100778/100778 [==============================] - 7s 71us/step - loss: 0.0268 - binary_accuracy: 0.9914 - val_loss: 0.0250 - val_binary_accuracy: 0.9921\n",
      "Epoch 50/100\n"
     ]
    },
    {
     "name": "stdout",
     "output_type": "stream",
     "text": [
      "100778/100778 [==============================] - 7s 70us/step - loss: 0.0267 - binary_accuracy: 0.9914 - val_loss: 0.0253 - val_binary_accuracy: 0.9920\n",
      "Epoch 51/100\n",
      "100778/100778 [==============================] - 7s 73us/step - loss: 0.0268 - binary_accuracy: 0.9914 - val_loss: 0.0249 - val_binary_accuracy: 0.9921\n",
      "Epoch 52/100\n",
      "100778/100778 [==============================] - 7s 70us/step - loss: 0.0271 - binary_accuracy: 0.9915 - val_loss: 0.0247 - val_binary_accuracy: 0.9923\n",
      "Epoch 53/100\n",
      "100778/100778 [==============================] - 7s 73us/step - loss: 0.0266 - binary_accuracy: 0.9915 - val_loss: 0.0247 - val_binary_accuracy: 0.9923\n",
      "Epoch 54/100\n",
      "100778/100778 [==============================] - 7s 68us/step - loss: 0.0270 - binary_accuracy: 0.9916 - val_loss: 0.0245 - val_binary_accuracy: 0.9925\n",
      "Epoch 55/100\n",
      "100778/100778 [==============================] - 7s 69us/step - loss: 0.0266 - binary_accuracy: 0.9917 - val_loss: 0.0246 - val_binary_accuracy: 0.9923\n",
      "Epoch 56/100\n",
      "100778/100778 [==============================] - 7s 70us/step - loss: 0.0269 - binary_accuracy: 0.9915 - val_loss: 0.0244 - val_binary_accuracy: 0.9923\n",
      "Epoch 57/100\n",
      "100778/100778 [==============================] - 7s 69us/step - loss: 0.0264 - binary_accuracy: 0.9918 - val_loss: 0.0243 - val_binary_accuracy: 0.9923\n",
      "Epoch 58/100\n",
      "100778/100778 [==============================] - 7s 71us/step - loss: 0.0263 - binary_accuracy: 0.9919 - val_loss: 0.0242 - val_binary_accuracy: 0.9924\n",
      "Epoch 59/100\n",
      "100778/100778 [==============================] - 7s 70us/step - loss: 0.0261 - binary_accuracy: 0.9918 - val_loss: 0.0240 - val_binary_accuracy: 0.9925\n",
      "Epoch 60/100\n",
      "100778/100778 [==============================] - 7s 70us/step - loss: 0.0261 - binary_accuracy: 0.9918 - val_loss: 0.0238 - val_binary_accuracy: 0.9925\n",
      "Epoch 61/100\n",
      "100778/100778 [==============================] - 7s 70us/step - loss: 0.0260 - binary_accuracy: 0.9919 - val_loss: 0.0239 - val_binary_accuracy: 0.9927\n",
      "Epoch 62/100\n",
      "100778/100778 [==============================] - 7s 68us/step - loss: 0.0258 - binary_accuracy: 0.9918 - val_loss: 0.0239 - val_binary_accuracy: 0.9925\n",
      "Epoch 63/100\n",
      "100778/100778 [==============================] - 7s 68us/step - loss: 0.0259 - binary_accuracy: 0.9920 - val_loss: 0.0236 - val_binary_accuracy: 0.9927\n",
      "Epoch 64/100\n",
      "100778/100778 [==============================] - 7s 68us/step - loss: 0.0252 - binary_accuracy: 0.9921 - val_loss: 0.0235 - val_binary_accuracy: 0.9929\n",
      "Epoch 65/100\n",
      "100778/100778 [==============================] - 7s 72us/step - loss: 0.0256 - binary_accuracy: 0.9922 - val_loss: 0.0234 - val_binary_accuracy: 0.9929\n",
      "Epoch 66/100\n",
      "100778/100778 [==============================] - 7s 72us/step - loss: 0.0251 - binary_accuracy: 0.9921 - val_loss: 0.0235 - val_binary_accuracy: 0.9928\n",
      "Epoch 67/100\n",
      "100778/100778 [==============================] - 7s 71us/step - loss: 0.0254 - binary_accuracy: 0.9922 - val_loss: 0.0234 - val_binary_accuracy: 0.9928\n",
      "Epoch 68/100\n",
      "100778/100778 [==============================] - 7s 71us/step - loss: 0.0253 - binary_accuracy: 0.9920 - val_loss: 0.0231 - val_binary_accuracy: 0.9931\n",
      "Epoch 69/100\n",
      "100778/100778 [==============================] - 7s 70us/step - loss: 0.0250 - binary_accuracy: 0.9923 - val_loss: 0.0232 - val_binary_accuracy: 0.9929\n",
      "Epoch 70/100\n",
      "100778/100778 [==============================] - 7s 71us/step - loss: 0.0251 - binary_accuracy: 0.9923 - val_loss: 0.0231 - val_binary_accuracy: 0.9930\n",
      "Epoch 71/100\n",
      "100778/100778 [==============================] - 7s 70us/step - loss: 0.0251 - binary_accuracy: 0.9923 - val_loss: 0.0231 - val_binary_accuracy: 0.9931\n",
      "Epoch 72/100\n",
      "100778/100778 [==============================] - 7s 70us/step - loss: 0.0248 - binary_accuracy: 0.9923 - val_loss: 0.0227 - val_binary_accuracy: 0.9935\n",
      "Epoch 73/100\n",
      "100778/100778 [==============================] - 7s 71us/step - loss: 0.0245 - binary_accuracy: 0.9925 - val_loss: 0.0227 - val_binary_accuracy: 0.9934\n",
      "Epoch 74/100\n",
      "100778/100778 [==============================] - 7s 70us/step - loss: 0.0242 - binary_accuracy: 0.9927 - val_loss: 0.0227 - val_binary_accuracy: 0.9933\n",
      "Epoch 75/100\n",
      "100778/100778 [==============================] - 7s 71us/step - loss: 0.0242 - binary_accuracy: 0.9926 - val_loss: 0.0228 - val_binary_accuracy: 0.9933\n",
      "Epoch 76/100\n",
      "100778/100778 [==============================] - 7s 71us/step - loss: 0.0247 - binary_accuracy: 0.9925 - val_loss: 0.0226 - val_binary_accuracy: 0.9936\n",
      "Epoch 77/100\n",
      "100778/100778 [==============================] - 7s 70us/step - loss: 0.0240 - binary_accuracy: 0.9926 - val_loss: 0.0225 - val_binary_accuracy: 0.9935\n",
      "Epoch 78/100\n",
      "100778/100778 [==============================] - 7s 72us/step - loss: 0.0242 - binary_accuracy: 0.9925 - val_loss: 0.0225 - val_binary_accuracy: 0.9935\n",
      "Epoch 79/100\n",
      "100778/100778 [==============================] - 7s 70us/step - loss: 0.0241 - binary_accuracy: 0.9927 - val_loss: 0.0223 - val_binary_accuracy: 0.9938\n",
      "Epoch 80/100\n",
      "100778/100778 [==============================] - 7s 72us/step - loss: 0.0242 - binary_accuracy: 0.9926 - val_loss: 0.0223 - val_binary_accuracy: 0.9938\n",
      "Epoch 81/100\n",
      "100778/100778 [==============================] - 7s 71us/step - loss: 0.0237 - binary_accuracy: 0.9927 - val_loss: 0.0224 - val_binary_accuracy: 0.9935\n",
      "Epoch 82/100\n",
      "100778/100778 [==============================] - 7s 70us/step - loss: 0.0238 - binary_accuracy: 0.9926 - val_loss: 0.0221 - val_binary_accuracy: 0.9938\n",
      "Epoch 83/100\n",
      "100778/100778 [==============================] - 7s 70us/step - loss: 0.0236 - binary_accuracy: 0.9929 - val_loss: 0.0221 - val_binary_accuracy: 0.9939\n",
      "Epoch 84/100\n",
      "100778/100778 [==============================] - 7s 70us/step - loss: 0.0237 - binary_accuracy: 0.9926 - val_loss: 0.0220 - val_binary_accuracy: 0.9941\n",
      "Epoch 85/100\n",
      "100778/100778 [==============================] - 7s 70us/step - loss: 0.0237 - binary_accuracy: 0.9928 - val_loss: 0.0219 - val_binary_accuracy: 0.9940\n",
      "Epoch 86/100\n",
      "100778/100778 [==============================] - 7s 70us/step - loss: 0.0231 - binary_accuracy: 0.9931 - val_loss: 0.0219 - val_binary_accuracy: 0.9940\n",
      "Epoch 87/100\n",
      "100778/100778 [==============================] - 7s 70us/step - loss: 0.0234 - binary_accuracy: 0.9930 - val_loss: 0.0221 - val_binary_accuracy: 0.9936\n",
      "Epoch 88/100\n",
      "100778/100778 [==============================] - 7s 71us/step - loss: 0.0234 - binary_accuracy: 0.9930 - val_loss: 0.0219 - val_binary_accuracy: 0.9940\n",
      "Epoch 89/100\n",
      "100778/100778 [==============================] - 7s 71us/step - loss: 0.0235 - binary_accuracy: 0.9930 - val_loss: 0.0216 - val_binary_accuracy: 0.9941\n",
      "Epoch 90/100\n",
      "100778/100778 [==============================] - 7s 71us/step - loss: 0.0234 - binary_accuracy: 0.9932 - val_loss: 0.0217 - val_binary_accuracy: 0.9940\n",
      "Epoch 91/100\n",
      "100778/100778 [==============================] - 7s 71us/step - loss: 0.0232 - binary_accuracy: 0.9931 - val_loss: 0.0216 - val_binary_accuracy: 0.9941\n",
      "Epoch 92/100\n",
      "100778/100778 [==============================] - 7s 70us/step - loss: 0.0230 - binary_accuracy: 0.9931 - val_loss: 0.0214 - val_binary_accuracy: 0.9942\n",
      "Epoch 93/100\n",
      "100778/100778 [==============================] - 7s 70us/step - loss: 0.0227 - binary_accuracy: 0.9932 - val_loss: 0.0215 - val_binary_accuracy: 0.9941\n",
      "Epoch 94/100\n",
      "100778/100778 [==============================] - 7s 71us/step - loss: 0.0221 - binary_accuracy: 0.9932 - val_loss: 0.0214 - val_binary_accuracy: 0.9942\n",
      "Epoch 95/100\n",
      "100778/100778 [==============================] - 7s 71us/step - loss: 0.0226 - binary_accuracy: 0.9933 - val_loss: 0.0215 - val_binary_accuracy: 0.9941\n",
      "Epoch 96/100\n",
      "100778/100778 [==============================] - 7s 70us/step - loss: 0.0226 - binary_accuracy: 0.9934 - val_loss: 0.0214 - val_binary_accuracy: 0.9942\n",
      "Epoch 97/100\n",
      "100778/100778 [==============================] - 7s 70us/step - loss: 0.0226 - binary_accuracy: 0.9934 - val_loss: 0.0212 - val_binary_accuracy: 0.9942\n",
      "Epoch 98/100\n",
      "100778/100778 [==============================] - 7s 70us/step - loss: 0.0226 - binary_accuracy: 0.9934 - val_loss: 0.0212 - val_binary_accuracy: 0.9941\n",
      "Epoch 99/100\n",
      "100778/100778 [==============================] - 7s 71us/step - loss: 0.0226 - binary_accuracy: 0.9933 - val_loss: 0.0211 - val_binary_accuracy: 0.9942\n"
     ]
    },
    {
     "name": "stdout",
     "output_type": "stream",
     "text": [
      "Epoch 100/100\n",
      "100778/100778 [==============================] - 7s 71us/step - loss: 0.0221 - binary_accuracy: 0.9933 - val_loss: 0.0210 - val_binary_accuracy: 0.9943\n"
     ]
    }
   ],
   "source": [
    "# Fit the model\n",
    "history = model.fit(X_train, y_train, validation_split=0.2, epochs=100, batch_size=128)"
   ]
  },
  {
   "cell_type": "markdown",
   "metadata": {},
   "source": [
    " ## Ploating"
   ]
  },
  {
   "cell_type": "code",
   "execution_count": 36,
   "metadata": {},
   "outputs": [
    {
     "data": {
      "text/plain": [
       "<matplotlib.legend.Legend at 0x7f7975572fd0>"
      ]
     },
     "execution_count": 36,
     "metadata": {},
     "output_type": "execute_result"
    },
    {
     "data": {
      "image/png": "[encoded data removed]",
      "text/plain": [
       "<matplotlib.figure.Figure at 0x7f7975559f28>"
      ]
     },
     "metadata": {},
     "output_type": "display_data"
    }
   ],
   "source": [
    "history_dict = history.history\n",
    "\n",
    "loss_values = history_dict['loss']\n",
    "val_loss_values = history_dict['val_loss']\n",
    "acc = history_dict['val_binary_accuracy']\n",
    "\n",
    "epochs = range(1,len(acc) +1)\n",
    "\n",
    "plt.plot(epochs, loss_values, 'bo', label='Training loss')\n",
    "plt.plot(epochs, val_loss_values, 'b', label='validation loss')\n",
    "\n",
    "plt.title('training and validation loss')\n",
    "plt.xlabel('Epochs')\n",
    "plt.ylabel('Loss')\n",
    "plt.legend()\n"
   ]
  },
  {
   "cell_type": "code",
   "execution_count": 38,
   "metadata": {},
   "outputs": [
    {
     "data": {
      "image/png": "[encoded data removed]",
      "text/plain": [
       "<matplotlib.figure.Figure at 0x7f79754df198>"
      ]
     },
     "metadata": {},
     "output_type": "display_data"
    }
   ],
   "source": [
    "plt.show()\n",
    "\n",
    "\n",
    "plt.clf()\n",
    "acc_values = history_dict['binary_accuracy']\n",
    "val_acc_values = history_dict['val_binary_accuracy']\n",
    "\n",
    "plt.plot(epochs, acc_values, 'bo', label='Training acc')\n",
    "plt.plot(epochs, val_acc_values, 'b', label='Validation acc')\n",
    "\n",
    "plt.title('Training and validation accuracy')\n",
    "plt.xlabel('Epochs')\n",
    "plt.ylabel('accuracy')\n",
    "plt.legend()\n",
    "plt.show()"
   ]
  },
  {
   "cell_type": "markdown",
   "metadata": {},
   "source": [
    "## Evaluation "
   ]
  },
  {
   "cell_type": "code",
   "execution_count": 39,
   "metadata": {},
   "outputs": [],
   "source": [
    "from sklearn.metrics import accuracy_score,confusion_matrix, precision_score, recall_score, f1_score\n",
    "\n",
    "y_test_pred = model.predict_classes(X_test)"
   ]
  },
  {
   "cell_type": "code",
   "execution_count": 40,
   "metadata": {},
   "outputs": [],
   "source": [
    "def score_detail(y_test,y_test_pred):\n",
    "    # Confusion matrix\n",
    "    print(\"Confusion matrix\")\n",
    "    print(confusion_matrix(y_test, y_test_pred))\n",
    "    # Accuracy \n",
    "    print('Accuracy ',accuracy_score(y_test, y_test_pred))\n",
    "    # Precision \n",
    "    print('Precision ',precision_score(y_test, y_test_pred))\n",
    "    # Recall\n",
    "    print('Recall ',recall_score(y_test, y_test_pred))\n",
    "    # F1 score\n",
    "    print('F1 score ',f1_score(y_test,y_test_pred))"
   ]
  },
  {
   "cell_type": "markdown",
   "metadata": {},
   "source": [
    "### Test "
   ]
  },
  {
   "cell_type": "code",
   "execution_count": 41,
   "metadata": {},
   "outputs": [
    {
     "name": "stdout",
     "output_type": "stream",
     "text": [
      "Confusion matrix\n",
      "[[8456 4377]\n",
      " [ 280 9431]]\n",
      "Accuracy  0.7934261887863733\n",
      "Precision  0.6830098493626883\n",
      "Recall  0.9711667181546699\n",
      "F1 score  0.801989880522131\n"
     ]
    }
   ],
   "source": [
    "score_detail(y_test,y_test_pred)"
   ]
  },
  {
   "cell_type": "code",
   "execution_count": 42,
   "metadata": {},
   "outputs": [
    {
     "name": "stdout",
     "output_type": "stream",
     "text": [
      "22544/22544 [==============================] - 9s 411us/step\n"
     ]
    },
    {
     "data": {
      "text/plain": [
       "[1.6026554575111953, 0.7934261887863733]"
      ]
     },
     "execution_count": 42,
     "metadata": {},
     "output_type": "execute_result"
    }
   ],
   "source": [
    "model.evaluate(X_test,y_test)"
   ]
  },
  {
   "cell_type": "markdown",
   "metadata": {},
   "source": [
    "### Test21"
   ]
  },
  {
   "cell_type": "code",
   "execution_count": 43,
   "metadata": {},
   "outputs": [
    {
     "name": "stdout",
     "output_type": "stream",
     "text": [
      "Confusion matrix\n",
      "[[5329 4369]\n",
      " [ 273 1879]]\n",
      "Accuracy  0.6082700421940929\n",
      "Precision  0.30073623559539053\n",
      "Recall  0.8731412639405205\n",
      "F1 score  0.44738095238095243\n"
     ]
    }
   ],
   "source": [
    "y_test_pred20 = model.predict_classes(X_test20)\n",
    "score_detail(y_test20,y_test_pred20)"
   ]
  },
  {
   "cell_type": "markdown",
   "metadata": {},
   "source": [
    "## Saving the model "
   ]
  },
  {
   "cell_type": "code",
   "execution_count": 243,
   "metadata": {},
   "outputs": [],
   "source": [
    "from keras.models import load_model\n",
    "\n",
    "model.save('BC_MODEL.h5')  # creates a HDF5 file 'my_model.h5'\n",
    "#del model  # deletes the existing model\n",
    "\n",
    "# returns a compiled model\n",
    "# identical to the previous one\n",
    "#model = load_model('my_model.h5')"
   ]
  },
  {
   "cell_type": "code",
   "execution_count": null,
   "metadata": {},
   "outputs": [],
   "source": []
  }
 ],
 "metadata": {
  "kernelspec": {
   "display_name": "Python 3",
   "language": "python",
   "name": "python3"
  },
  "language_info": {
   "codemirror_mode": {
    "name": "ipython",
    "version": 3
   },
   "file_extension": ".py",
   "mimetype": "text/x-python",
   "name": "python",
   "nbconvert_exporter": "python",
   "pygments_lexer": "ipython3",
   "version": "3.5.2"
  }
 },
 "nbformat": 4,
 "nbformat_minor": 2
}
