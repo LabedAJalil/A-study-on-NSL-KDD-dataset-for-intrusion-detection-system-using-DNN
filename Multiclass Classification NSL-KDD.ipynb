{
 "cells": [
  {
   "cell_type": "markdown",
   "metadata": {},
   "source": [
    "# Intrusion Detection On NSL KDD Multiclass Classification\n",
    "## Contents "
   ]
  },
  {
   "cell_type": "code",
   "execution_count": 1,
   "metadata": {},
   "outputs": [],
   "source": [
    "import pandas as pd\n",
    "import numpy as np\n",
    "import matplotlib.pyplot as plt \n",
    "\n",
    "KDDTrain_dataset_path   = \"PKDDTrain+.csv\"\n",
    "KDDTrain20_dataset_path = \"PKDDTrain+_20Percent.csv\"\n",
    "KDDTest_dataset_path    = \"PKDDTest+.csv\"\n",
    "KDDTest20_dataset_path  = \"PKDDTest-21.csv\""
   ]
  },
  {
   "cell_type": "markdown",
   "metadata": {},
   "source": [
    "## Data Preprocessing\n",
    "### Loading the NSLKDD dataset"
   ]
  },
  {
   "cell_type": "code",
   "execution_count": 2,
   "metadata": {},
   "outputs": [],
   "source": [
    "def load_data(data_path):\n",
    "    data = pd.read_csv(data_path)\n",
    "    return data\n",
    "\n",
    "KDDTrain   =  load_data(KDDTrain_dataset_path)\n",
    "KDDTrain20 =  load_data(KDDTrain20_dataset_path)\n",
    "KDDTest    =  load_data(KDDTest_dataset_path)\n",
    "KDDTest20  =  load_data(KDDTest20_dataset_path)"
   ]
  },
  {
   "cell_type": "code",
   "execution_count": 3,
   "metadata": {},
   "outputs": [],
   "source": [
    "attack_dict = {\n",
    "     'normal': 0,\n",
    "     'DoS'   : 1, \n",
    "     'Probe' : 2,\n",
    "     'R2L'   : 3,   \n",
    "     'U2R'   : 4,\n",
    "}\n",
    "_col = KDDTrain['labels5'].map(attack_dict)\n"
   ]
  },
  {
   "cell_type": "markdown",
   "metadata": {},
   "source": [
    "### Normalizing the data"
   ]
  },
  {
   "cell_type": "code",
   "execution_count": 4,
   "metadata": {},
   "outputs": [
    {
     "name": "stderr",
     "output_type": "stream",
     "text": [
      "/home/labed/ml/env/lib/python3.5/site-packages/h5py/__init__.py:36: FutureWarning: Conversion of the second argument of issubdtype from `float` to `np.floating` is deprecated. In future, it will be treated as `np.float64 == np.dtype(float).type`.\n",
      "  from ._conv import register_converters as _register_converters\n",
      "Using TensorFlow backend.\n"
     ]
    }
   ],
   "source": [
    "from sklearn.preprocessing import StandardScaler\n",
    "from sklearn.preprocessing import MinMaxScaler\n",
    "from sklearn.base import BaseEstimator, TransformerMixin\n",
    "from keras.utils.np_utils import to_categorical\n",
    "\n",
    "attack_dict = {\n",
    "     'normal': 0,\n",
    "     'DoS'   : 1, \n",
    "     'Probe' : 2,\n",
    "     'R2L'   : 3,   \n",
    "     'U2R'   : 4,\n",
    "}\n",
    "\n",
    "class SplitData(BaseEstimator, TransformerMixin):\n",
    "    \n",
    "    def __init__(self):\n",
    "        super(SplitData, self).__init__()\n",
    "    \n",
    "    def fit(self,X,y=None):\n",
    "        return self \n",
    "    \n",
    "    def transform(self, X, labels, y=None):\n",
    "        \n",
    "        # Preparing the labels\n",
    "        y = X[labels]\n",
    "        X.drop('labels5',axis=1,inplace=True)\n",
    "        X.drop('labels2',axis=1,inplace=True)\n",
    "        \n",
    "        if (labels == 'labels2'):\n",
    "            y = (y == 'normal')\n",
    "            y_ = np.asarray(y).astype('float32')\n",
    "        else:\n",
    "            mapping_col   = y.map(attack_dict)\n",
    "            #y_ = to_categorical(mapping_col)\n",
    "            y_ = mapping_col.values\n",
    "            \n",
    "        # Scalling\n",
    "        # scaler = StandardScaler().fit(X)\n",
    "        # X_ = scaler.transform(X)\n",
    "        \n",
    "        # Normalization \n",
    "        normalize = MinMaxScaler().fit(X)\n",
    "        X_ = normalize.transform(X)\n",
    "        return X_,y_"
   ]
  },
  {
   "cell_type": "code",
   "execution_count": 5,
   "metadata": {},
   "outputs": [],
   "source": [
    "X_train, y_train = SplitData().transform(KDDTrain, labels='labels5')\n",
    "X_train20, y_train20 = SplitData().transform(KDDTrain20, labels='labels5')\n",
    "X_test, y_test = SplitData().transform(KDDTest, labels='labels5')\n",
    "X_test20, y_test20 = SplitData().transform(KDDTest20, labels='labels5')"
   ]
  },
  {
   "cell_type": "markdown",
   "metadata": {},
   "source": [
    "### Data Description"
   ]
  },
  {
   "cell_type": "code",
   "execution_count": 6,
   "metadata": {},
   "outputs": [
    {
     "name": "stdout",
     "output_type": "stream",
     "text": [
      "#Features \n",
      "Number of samples(examples)  125973  Number of features 121\n",
      "Dimension of data set  (125973, 121)\n",
      "---------------------------------------------------------------\n",
      "Number of samples(examples)  25192  Number of features 121\n",
      "Dimension of data set  (25192, 121)\n",
      "---------------------------------------------------------------\n",
      "Number of samples(examples)  22544  Number of features 121\n",
      "Dimension of data set  (22544, 121)\n",
      "---------------------------------------------------------------\n",
      "Number of samples(examples)  11850  Number of features 121\n",
      "Dimension of data set  (11850, 121)\n",
      "---------------------------------------------------------------\n",
      "#Labels\n",
      "Dimension of data set  (125973,)\n",
      "---------------------------------------------------------------\n",
      "Dimension of data set  (25192,)\n",
      "---------------------------------------------------------------\n",
      "Dimension of data set  (22544,)\n",
      "---------------------------------------------------------------\n",
      "Dimension of data set  (11850,)\n",
      "---------------------------------------------------------------\n"
     ]
    }
   ],
   "source": [
    "def description(data):\n",
    "    print(\"Number of samples(examples) \",data.shape[0],\" Number of features\",data.shape[1])\n",
    "    print(\"Dimension of data set \",data.shape)\n",
    "print(\"#Features \")    \n",
    "for data in [X_train,X_train20,X_test,X_test20]:\n",
    "    description(data)\n",
    "    print('---------------------------------------------------------------')\n",
    "print(\"#Labels\")    \n",
    "for data in [y_train,y_train20,y_test,y_test20]:\n",
    "    print(\"Dimension of data set \",data.shape)\n",
    "    print('---------------------------------------------------------------')"
   ]
  },
  {
   "cell_type": "code",
   "execution_count": 7,
   "metadata": {},
   "outputs": [
    {
     "name": "stdout",
     "output_type": "stream",
     "text": [
      "maximum element: 1.0\n",
      "minimum element: 0.0\n"
     ]
    }
   ],
   "source": [
    "print(\"maximum element:\",np.max(X_train))\n",
    "print(\"minimum element:\",np.min(X_train))"
   ]
  },
  {
   "cell_type": "markdown",
   "metadata": {},
   "source": [
    "## Building the network\n",
    "### The network architecture"
   ]
  },
  {
   "cell_type": "code",
   "execution_count": 8,
   "metadata": {},
   "outputs": [],
   "source": [
    "from keras import layers,optimizers,metrics,models"
   ]
  },
  {
   "cell_type": "code",
   "execution_count": 9,
   "metadata": {},
   "outputs": [],
   "source": [
    "model = models.Sequential()\n",
    "model.add(layers.Dense(2048, activation='relu', input_shape=(121,)))\n",
    "model.add(layers.Dropout(0.5))\n",
    "model.add(layers.Dense(1024, activation='relu'))\n",
    "model.add(layers.Dropout(0.2))\n",
    "model.add(layers.Dense(512, activation='relu'))\n",
    "model.add(layers.Dropout(0.5))\n",
    "model.add(layers.Dense(5, activation='softmax'))"
   ]
  },
  {
   "cell_type": "markdown",
   "metadata": {},
   "source": [
    "### The compilation step"
   ]
  },
  {
   "cell_type": "code",
   "execution_count": 10,
   "metadata": {},
   "outputs": [],
   "source": [
    "#optimizers.RMSprop(lr=0.001) rmsprop\n",
    "model.compile(optimizer=optimizers.RMSprop(lr=0.0001),\n",
    "             loss='sparse_categorical_crossentropy',\n",
    "             metrics=['accuracy'])"
   ]
  },
  {
   "cell_type": "code",
   "execution_count": 11,
   "metadata": {},
   "outputs": [
    {
     "name": "stdout",
     "output_type": "stream",
     "text": [
      "Train on 84401 samples, validate on 41572 samples\n",
      "Epoch 1/20\n",
      "84401/84401 [==============================] - 66s 787us/step - loss: 0.1508 - acc: 0.9594 - val_loss: 0.0565 - val_acc: 0.9805\n",
      "Epoch 2/20\n",
      "84401/84401 [==============================] - 64s 760us/step - loss: 0.0576 - acc: 0.9805 - val_loss: 0.0422 - val_acc: 0.9855\n",
      "Epoch 3/20\n",
      "84401/84401 [==============================] - 61s 723us/step - loss: 0.0468 - acc: 0.9845 - val_loss: 0.0358 - val_acc: 0.9880\n",
      "Epoch 4/20\n",
      "84401/84401 [==============================] - 61s 722us/step - loss: 0.0408 - acc: 0.9863 - val_loss: 0.0325 - val_acc: 0.9897\n",
      "Epoch 5/20\n",
      "84401/84401 [==============================] - 62s 731us/step - loss: 0.0370 - acc: 0.9874 - val_loss: 0.0298 - val_acc: 0.9910\n",
      "Epoch 6/20\n",
      "84401/84401 [==============================] - 61s 726us/step - loss: 0.0332 - acc: 0.9885 - val_loss: 0.0272 - val_acc: 0.9913\n",
      "Epoch 7/20\n",
      "84401/84401 [==============================] - 61s 720us/step - loss: 0.0312 - acc: 0.9895 - val_loss: 0.0269 - val_acc: 0.9898\n",
      "Epoch 8/20\n",
      "84401/84401 [==============================] - 61s 720us/step - loss: 0.0290 - acc: 0.9904 - val_loss: 0.0236 - val_acc: 0.9920\n",
      "Epoch 9/20\n",
      "84401/84401 [==============================] - 61s 720us/step - loss: 0.0272 - acc: 0.9909 - val_loss: 0.0232 - val_acc: 0.9929\n",
      "Epoch 10/20\n",
      "84401/84401 [==============================] - 61s 724us/step - loss: 0.0255 - acc: 0.9918 - val_loss: 0.0210 - val_acc: 0.9938\n",
      "Epoch 11/20\n",
      "84401/84401 [==============================] - 61s 725us/step - loss: 0.0246 - acc: 0.9923 - val_loss: 0.0200 - val_acc: 0.9937\n",
      "Epoch 12/20\n",
      "84401/84401 [==============================] - 61s 724us/step - loss: 0.0233 - acc: 0.9928 - val_loss: 0.0216 - val_acc: 0.9936\n",
      "Epoch 13/20\n",
      "84401/84401 [==============================] - 61s 722us/step - loss: 0.0224 - acc: 0.9932 - val_loss: 0.0202 - val_acc: 0.9937\n",
      "Epoch 14/20\n",
      "84401/84401 [==============================] - 61s 720us/step - loss: 0.0222 - acc: 0.9934 - val_loss: 0.0190 - val_acc: 0.9945\n",
      "Epoch 15/20\n",
      "84401/84401 [==============================] - 61s 721us/step - loss: 0.0209 - acc: 0.9936 - val_loss: 0.0185 - val_acc: 0.9948\n",
      "Epoch 16/20\n",
      "84401/84401 [==============================] - 61s 721us/step - loss: 0.0216 - acc: 0.9937 - val_loss: 0.0191 - val_acc: 0.9947\n",
      "Epoch 17/20\n",
      "84401/84401 [==============================] - 61s 723us/step - loss: 0.0207 - acc: 0.9938 - val_loss: 0.0185 - val_acc: 0.9946\n",
      "Epoch 18/20\n",
      "84401/84401 [==============================] - 61s 725us/step - loss: 0.0205 - acc: 0.9941 - val_loss: 0.0177 - val_acc: 0.9950\n",
      "Epoch 19/20\n",
      "84401/84401 [==============================] - 61s 722us/step - loss: 0.0201 - acc: 0.9943 - val_loss: 0.0185 - val_acc: 0.9948\n",
      "Epoch 20/20\n",
      "84401/84401 [==============================] - 61s 720us/step - loss: 0.0197 - acc: 0.9942 - val_loss: 0.0174 - val_acc: 0.9950\n"
     ]
    }
   ],
   "source": [
    "# Fit the model\n",
    "history = model.fit(X_train, y_train, validation_split=0.33, epochs=20, batch_size=256)"
   ]
  },
  {
   "cell_type": "markdown",
   "metadata": {},
   "source": [
    " ## Ploating"
   ]
  },
  {
   "cell_type": "code",
   "execution_count": 177,
   "metadata": {},
   "outputs": [
    {
     "data": {
      "text/plain": [
       "<matplotlib.legend.Legend at 0x7f3ebb14a908>"
      ]
     },
     "execution_count": 177,
     "metadata": {},
     "output_type": "execute_result"
    },
    {
     "data": {
      "image/png": "[encoded data removed]",
      "text/plain": [
       "<matplotlib.figure.Figure at 0x7f3ec8c9fb00>"
      ]
     },
     "metadata": {},
     "output_type": "display_data"
    }
   ],
   "source": [
    "history_dict = history.history\n",
    "\n",
    "loss_values = history_dict['loss']\n",
    "val_loss_values = history_dict['val_loss']\n",
    "acc = history_dict['val_acc']\n",
    "\n",
    "epochs = range(1,len(acc) +1)\n",
    "\n",
    "plt.plot(epochs, loss_values, 'bo', label='Training loss')\n",
    "plt.plot(epochs, val_loss_values, 'b', label='validation loss')\n",
    "\n",
    "plt.title('training and validation loss')\n",
    "plt.xlabel('Epochs')\n",
    "plt.ylabel('Loss')\n",
    "plt.legend()\n"
   ]
  },
  {
   "cell_type": "code",
   "execution_count": 178,
   "metadata": {},
   "outputs": [
    {
     "data": {
      "image/png": "[encoded data removed]",
      "text/plain": [
       "<matplotlib.figure.Figure at 0x7f3ec8c9f9b0>"
      ]
     },
     "metadata": {},
     "output_type": "display_data"
    }
   ],
   "source": [
    "plt.show()\n",
    "\n",
    "\n",
    "plt.clf()\n",
    "acc_values = history_dict['acc']\n",
    "val_acc_values = history_dict['val_acc']\n",
    "\n",
    "plt.plot(epochs, acc_values, 'bo', label='Training acc')\n",
    "plt.plot(epochs, val_acc_values, 'b', label='Validation acc')\n",
    "\n",
    "plt.title('Training and validation accuracy')\n",
    "plt.xlabel('Epochs')\n",
    "plt.ylabel('accuracy')\n",
    "plt.legend()\n",
    "plt.show()"
   ]
  },
  {
   "cell_type": "markdown",
   "metadata": {},
   "source": [
    "## Evaluation "
   ]
  },
  {
   "cell_type": "code",
   "execution_count": 179,
   "metadata": {},
   "outputs": [],
   "source": [
    "from sklearn.metrics import accuracy_score,confusion_matrix, precision_score, recall_score, f1_score\n",
    "\n",
    "y_test_pred = model.predict_classes(X_test)"
   ]
  },
  {
   "cell_type": "code",
   "execution_count": 180,
   "metadata": {},
   "outputs": [
    {
     "name": "stdout",
     "output_type": "stream",
     "text": [
      "Confusion matrix\n",
      "[[9427   65  217    0    2]\n",
      " [1114 6314   30    0    0]\n",
      " [ 510  214 1684   13    0]\n",
      " [2453    1    6  291    3]\n",
      " [ 175    0    4    4   17]]\n",
      "Precision  0.7865951029098651\n",
      "Recall  0.7865951029098651\n",
      "F1 score  0.7865951029098651\n"
     ]
    }
   ],
   "source": [
    "from sklearn.metrics import classification_report\n",
    "target_names = ['0', '1', '2','3','4']\n",
    "\n",
    "def score_detail(y_test,y_test_pred):\n",
    "    # Confusion matrix\n",
    "    print(\"Confusion matrix\")\n",
    "    print(confusion_matrix(y_test, y_test_pred))\n",
    "    # Accuracy \n",
    "    #print('Accuracy ',accuracy_score(y_test, y_test_pred, average='micro'))\n",
    "    # Precision \n",
    "    print('Precision ',precision_score(y_test, y_test_pred, average='micro'))\n",
    "    # Recall\n",
    "    print('Recall ',recall_score(y_test, y_test_pred, average='micro'))\n",
    "    # F1 score\n",
    "    print('F1 score ',f1_score(y_test,y_test_pred, average='micro'))\n",
    "\n",
    "score_detail(y_test,y_test_pred)"
   ]
  },
  {
   "cell_type": "code",
   "execution_count": 181,
   "metadata": {},
   "outputs": [
    {
     "name": "stdout",
     "output_type": "stream",
     "text": [
      "22544/22544 [==============================] - 9s 413us/step\n"
     ]
    },
    {
     "data": {
      "text/plain": [
       "[2.1211482918880105, 0.7865951029098651]"
      ]
     },
     "execution_count": 181,
     "metadata": {},
     "output_type": "execute_result"
    }
   ],
   "source": [
    "model.evaluate(X_test,y_test)"
   ]
  },
  {
   "cell_type": "code",
   "execution_count": 182,
   "metadata": {},
   "outputs": [
    {
     "name": "stdout",
     "output_type": "stream",
     "text": [
      "             precision    recall  f1-score   support\n",
      "\n",
      "          0       0.69      0.97      0.81      9711\n",
      "          1       0.96      0.85      0.90      7458\n",
      "          2       0.87      0.70      0.77      2421\n",
      "          3       0.94      0.11      0.19      2754\n",
      "          4       0.77      0.09      0.15       200\n",
      "\n",
      "avg / total       0.83      0.79      0.75     22544\n",
      "\n"
     ]
    }
   ],
   "source": [
    "print(classification_report(y_test, y_test_pred, target_names=target_names))"
   ]
  },
  {
   "cell_type": "code",
   "execution_count": 183,
   "metadata": {},
   "outputs": [
    {
     "name": "stdout",
     "output_type": "stream",
     "text": [
      "Confusion matrix\n",
      "[[1874   63  213    0    2]\n",
      " [1113 3199   30    0    0]\n",
      " [ 510  214 1665   13    0]\n",
      " [2447    1    6  297    3]\n",
      " [ 175    0    4    4   17]]\n",
      "Precision  0.5951054852320675\n",
      "Recall  0.5951054852320675\n",
      "F1 score  0.5951054852320675\n"
     ]
    }
   ],
   "source": [
    "y_test_pred20 = model.predict_classes(X_test20)\n",
    "score_detail(y_test20,y_test_pred20)"
   ]
  },
  {
   "cell_type": "code",
   "execution_count": 185,
   "metadata": {},
   "outputs": [
    {
     "name": "stdout",
     "output_type": "stream",
     "text": [
      "             precision    recall  f1-score   support\n",
      "\n",
      "          0       0.31      0.87      0.45      2152\n",
      "          1       0.92      0.74      0.82      4342\n",
      "          2       0.87      0.69      0.77      2402\n",
      "          3       0.95      0.11      0.19      2754\n",
      "          4       0.77      0.09      0.15       200\n",
      "\n",
      "avg / total       0.80      0.60      0.59     11850\n",
      "\n"
     ]
    }
   ],
   "source": [
    "print(classification_report(y_test20, y_test_pred20, target_names=target_names))"
   ]
  },
  {
   "cell_type": "markdown",
   "metadata": {},
   "source": [
    "## Saving the model "
   ]
  },
  {
   "cell_type": "code",
   "execution_count": 184,
   "metadata": {},
   "outputs": [],
   "source": [
    "from keras.models import load_model\n",
    "\n",
    "model.save('MC_MODEL.h5')  # creates a HDF5 file 'my_model.h5'\n",
    "#del model  # deletes the existing model\n",
    "\n",
    "# returns a compiled model\n",
    "# identical to the previous one\n",
    "#model = load_model('my_model.h5')"
   ]
  },
  {
   "cell_type": "code",
   "execution_count": null,
   "metadata": {},
   "outputs": [],
   "source": []
  }
 ],
 "metadata": {
  "kernelspec": {
   "display_name": "Python 3",
   "language": "python",
   "name": "python3"
  },
  "language_info": {
   "codemirror_mode": {
    "name": "ipython",
    "version": 3
   },
   "file_extension": ".py",
   "mimetype": "text/x-python",
   "name": "python",
   "nbconvert_exporter": "python",
   "pygments_lexer": "ipython3",
   "version": "3.5.2"
  }
 },
 "nbformat": 4,
 "nbformat_minor": 2
}
